{
  "nbformat": 4,
  "nbformat_minor": 0,
  "metadata": {
    "colab": {
      "name": "Second Project PML_GL.ipynb",
      "provenance": [],
      "collapsed_sections": [
        "MIq8o7_qNp7l",
        "R8lSNMr4Ml4B"
      ]
    },
    "kernelspec": {
      "name": "python3",
      "display_name": "Python 3"
    }
  },
  "cells": [
    {
      "cell_type": "markdown",
      "metadata": {
        "id": "g-QXaz4SMWgY"
      },
      "source": [
        "# **Secnd PML Project**\r\n",
        "Ghadamiyan Lida, class 407 AI"
      ]
    },
    {
      "cell_type": "markdown",
      "metadata": {
        "id": "MIq8o7_qNp7l"
      },
      "source": [
        "### Libraries"
      ]
    },
    {
      "cell_type": "code",
      "metadata": {
        "id": "jQXIgOJle7XR",
        "colab": {
          "base_uri": "https://localhost:8080/"
        },
        "outputId": "b0c18a3f-0800-48ec-c29e-3dbbb5063a25"
      },
      "source": [
        "import pandas as pd\r\n",
        "import numpy as np\r\n",
        "import string\r\n",
        "import matplotlib.pyplot as plt\r\n",
        "\r\n",
        "import nltk\r\n",
        "from nltk.stem import WordNetLemmatizer, SnowballStemmer\r\n",
        "nltk.download('wordnet')\r\n",
        "nltk.download('punkt')\r\n",
        "stemmer = SnowballStemmer('russian')\r\n",
        "\r\n",
        "from sklearn.feature_extraction.text import CountVectorizer, TfidfTransformer\r\n",
        "from sklearn.decomposition import TruncatedSVD\r\n",
        "from sklearn.preprocessing import MinMaxScaler\r\n",
        "\r\n",
        "from sklearn.naive_bayes import MultinomialNB\r\n",
        "from sklearn.cluster import KMeans, DBSCAN\r\n",
        "\r\n",
        "from sklearn.metrics import accuracy_score, confusion_matrix, classification_report\r\n",
        "from sklearn.metrics.cluster import adjusted_rand_score\r\n",
        "from sklearn.metrics.cluster import fowlkes_mallows_score\r\n",
        "\r\n",
        "import seaborn as sns\r\n",
        "\r\n",
        "from yellowbrick.text import FreqDistVisualizer, TSNEVisualizer\r\n",
        "\r\n",
        "from sklearn.pipeline import Pipeline \r\n",
        "from sklearn.model_selection import cross_val_score, train_test_split, GridSearchCV, RandomizedSearchCV"
      ],
      "execution_count": 120,
      "outputs": [
        {
          "output_type": "stream",
          "text": [
            "[nltk_data] Downloading package wordnet to /root/nltk_data...\n",
            "[nltk_data]   Package wordnet is already up-to-date!\n",
            "[nltk_data] Downloading package punkt to /root/nltk_data...\n",
            "[nltk_data]   Package punkt is already up-to-date!\n"
          ],
          "name": "stdout"
        }
      ]
    },
    {
      "cell_type": "markdown",
      "metadata": {
        "id": "DAc_PbbBMfh-"
      },
      "source": [
        "## Data Preprocessing"
      ]
    },
    {
      "cell_type": "code",
      "metadata": {
        "id": "X-XwfW02fbj2"
      },
      "source": [
        "data = pd.read_csv('labeled.csv')"
      ],
      "execution_count": 40,
      "outputs": []
    },
    {
      "cell_type": "code",
      "metadata": {
        "id": "Ku_OxMEFbIS4"
      },
      "source": [
        "# Plotting the distribution of the labels\r\n",
        "toxicc = 0\r\n",
        "okc = 0\r\n",
        "for label in data['toxic']:\r\n",
        "    if label == 1:\r\n",
        "        toxicc += 1\r\n",
        "    if label == 0:\r\n",
        "        okc += 1"
      ],
      "execution_count": 55,
      "outputs": []
    },
    {
      "cell_type": "code",
      "metadata": {
        "colab": {
          "base_uri": "https://localhost:8080/",
          "height": 268
        },
        "id": "rMytaicbbgCJ",
        "outputId": "62be13f3-1720-418b-9971-644df44051f0"
      },
      "source": [
        "plt.bar('0 - Non toxic comments', okc)\r\n",
        "plt.bar('1 - Toxic comments', toxicc, color = 'orange')\r\n",
        "plt.show()"
      ],
      "execution_count": 62,
      "outputs": [
        {
          "output_type": "display_data",
          "data": {
            "image/png": "[encoded data removed]",
            "text/plain": [
              "<Figure size 432x288 with 1 Axes>"
            ]
          },
          "metadata": {
            "tags": [],
            "needs_background": "light"
          }
        }
      ]
    },
    {
      "cell_type": "code",
      "metadata": {
        "id": "py0oVrtmVgnd"
      },
      "source": [
        "data2 = []\r\n",
        "for i in range(0, len(data.index)):\r\n",
        "\r\n",
        "    # Punctuation removal\r\n",
        "    table = str.maketrans(dict.fromkeys(string.punctuation))                   \r\n",
        "    sentences = (data.comment[i].translate(table))\r\n",
        "\r\n",
        "    # \" '\\n \" removal\r\n",
        "    words = sentences[:-3] \r\n",
        "\r\n",
        "    # Tokenization\r\n",
        "    words = nltk.word_tokenize(words)\r\n",
        "\r\n",
        "    # shrt words removal & lemmatization & stemming\r\n",
        "    words_ = []\r\n",
        "    for word in words:\r\n",
        "        if len(word) > 2:   \r\n",
        "            if not word.isnumeric():                                                  \r\n",
        "                word1 = stemmer.stem(WordNetLemmatizer().lemmatize(word, pos='v'))          \r\n",
        "                words_.append(word1)\r\n",
        "    data2.append(words_)\r\n",
        "\r\n",
        "df = pd.DataFrame({'comment':data2, 'toxic':data['toxic']})   "
      ],
      "execution_count": 41,
      "outputs": []
    },
    {
      "cell_type": "code",
      "metadata": {
        "colab": {
          "base_uri": "https://localhost:8080/",
          "height": 204
        },
        "id": "r2GHfACTe5a-",
        "outputId": "ae102670-abbb-46c7-bee0-8fe5c041b625"
      },
      "source": [
        "comparison = pd.DataFrame({'comments': data['comment'], 'preprocessed comments': data2, 'labels': data['toxic']})\r\n",
        "comparison.head()"
      ],
      "execution_count": 4,
      "outputs": [
        {
          "output_type": "execute_result",
          "data": {
            "text/html": [
              "<div>\n",
              "<style scoped>\n",
              "    .dataframe tbody tr th:only-of-type {\n",
              "        vertical-align: middle;\n",
              "    }\n",
              "\n",
              "    .dataframe tbody tr th {\n",
              "        vertical-align: top;\n",
              "    }\n",
              "\n",
              "    .dataframe thead th {\n",
              "        text-align: right;\n",
              "    }\n",
              "</style>\n",
              "<table border=\"1\" class=\"dataframe\">\n",
              "  <thead>\n",
              "    <tr style=\"text-align: right;\">\n",
              "      <th></th>\n",
              "      <th>comments</th>\n",
              "      <th>preprocessed comments</th>\n",
              "    </tr>\n",
              "  </thead>\n",
              "  <tbody>\n",
              "    <tr>\n",
              "      <th>0</th>\n",
              "      <td>Верблюдов-то за что? Дебилы, бл...\\n</td>\n",
              "      <td>[верблюдовт, что, дебил]</td>\n",
              "    </tr>\n",
              "    <tr>\n",
              "      <th>1</th>\n",
              "      <td>Хохлы, это отдушина затюканого россиянина, мол...</td>\n",
              "      <td>[хохл, эт, отдушин, затюкан, россиянин, мол, в...</td>\n",
              "    </tr>\n",
              "    <tr>\n",
              "      <th>2</th>\n",
              "      <td>Собаке - собачья смерть\\n</td>\n",
              "      <td>[собак, собач, смер]</td>\n",
              "    </tr>\n",
              "    <tr>\n",
              "      <th>3</th>\n",
              "      <td>Страницу обнови, дебил. Это тоже не оскорблени...</td>\n",
              "      <td>[страниц, обнов, деб, эт, тож, оскорблен, дока...</td>\n",
              "    </tr>\n",
              "    <tr>\n",
              "      <th>4</th>\n",
              "      <td>тебя не убедил 6-страничный пдф в том, что Скр...</td>\n",
              "      <td>[теб, убед, 6страничн, пдф, том, что, скрипал,...</td>\n",
              "    </tr>\n",
              "  </tbody>\n",
              "</table>\n",
              "</div>"
            ],
            "text/plain": [
              "                                            comments                              preprocessed comments\n",
              "0               Верблюдов-то за что? Дебилы, бл...\\n                           [верблюдовт, что, дебил]\n",
              "1  Хохлы, это отдушина затюканого россиянина, мол...  [хохл, эт, отдушин, затюкан, россиянин, мол, в...\n",
              "2                          Собаке - собачья смерть\\n                               [собак, собач, смер]\n",
              "3  Страницу обнови, дебил. Это тоже не оскорблени...  [страниц, обнов, деб, эт, тож, оскорблен, дока...\n",
              "4  тебя не убедил 6-страничный пдф в том, что Скр...  [теб, убед, 6страничн, пдф, том, что, скрипал,..."
            ]
          },
          "metadata": {
            "tags": []
          },
          "execution_count": 4
        }
      ]
    },
    {
      "cell_type": "code",
      "metadata": {
        "id": "aLy_ot7jfk8s"
      },
      "source": [
        "train_data__, test_data__, train_labels, test_labels = train_test_split(df['comment'], df['toxic'], test_size = 0.2, random_state = 25)"
      ],
      "execution_count": 5,
      "outputs": []
    },
    {
      "cell_type": "code",
      "metadata": {
        "id": "2FFvKbp6jA2k"
      },
      "source": [
        "# CountVectorizer & TermFrequencies\r\n",
        "cvect = CountVectorizer(ngram_range=(1, 1), lowercase='true')   \r\n",
        "tfidf_transformer = TfidfTransformer(norm= 'l2', use_idf= False)"
      ],
      "execution_count": 6,
      "outputs": []
    },
    {
      "cell_type": "code",
      "metadata": {
        "id": "Qxw1qj305hSt"
      },
      "source": [
        "# Transforming the processed data to a list (for tfidf)\r\n",
        "data4 = train_data__.astype(str).values.tolist()\r\n",
        "\r\n",
        "train_data1 = cvect.fit_transform(data4)\r\n",
        "train_data = tfidf_transformer.fit_transform(train_data1)"
      ],
      "execution_count": 7,
      "outputs": []
    },
    {
      "cell_type": "code",
      "metadata": {
        "id": "gU0NOmS6kCY_"
      },
      "source": [
        "# Same procedure for the test data\r\n",
        "data5 = test_data__.astype(str).values.tolist()\r\n",
        "\r\n",
        "test_data1 = cvect.transform(data5)\r\n",
        "test_data = tfidf_transformer.transform(test_data1)"
      ],
      "execution_count": 8,
      "outputs": []
    },
    {
      "cell_type": "code",
      "metadata": {
        "id": "UMaUl9Xb5DLz"
      },
      "source": [
        "# Same procedure for the entire data set\r\n",
        "train_data6 = df['comment'].astype(str).values.tolist()\r\n",
        "\r\n",
        "data1_ = cvect.fit_transform(train_data6)\r\n",
        "data_ = tfidf_transformer.fit_transform(data1_)"
      ],
      "execution_count": 9,
      "outputs": []
    },
    {
      "cell_type": "markdown",
      "metadata": {
        "id": "Z7dwk9xRPBbW"
      },
      "source": [
        "### Data visualization"
      ]
    },
    {
      "cell_type": "code",
      "metadata": {
        "colab": {
          "base_uri": "https://localhost:8080/",
          "height": 280
        },
        "id": "AqRDzpnBOEeI",
        "outputId": "3e37ae59-b3d9-471f-cb93-2913da9c5a54"
      },
      "source": [
        "#https://www.scikit-yb.org/en/latest/api/text/freqdist.html\r\n",
        "features = cvect.get_feature_names()\r\n",
        "\r\n",
        "visualizer = FreqDistVisualizer(features=features)\r\n",
        "visualizer.fit(data1_)\r\n",
        "visualizer.poof()"
      ],
      "execution_count": 10,
      "outputs": [
        {
          "output_type": "display_data",
          "data": {
            "image/png": "[encoded data removed]",
            "text/plain": [
              "<Figure size 432x288 with 1 Axes>"
            ]
          },
          "metadata": {
            "tags": [],
            "needs_background": "light"
          }
        }
      ]
    },
    {
      "cell_type": "code",
      "metadata": {
        "colab": {
          "base_uri": "https://localhost:8080/",
          "height": 317
        },
        "id": "fu5nFdiF_1Hj",
        "outputId": "71e58599-d442-4a19-f976-98ec493f6622"
      },
      "source": [
        "#https://www.scikit-yb.org/en/latest/api/text/freqdist.html\r\n",
        "\r\n",
        "tsne = TSNEVisualizer()\r\n",
        "tsne.fit_transform(data_, df['toxic'])\r\n",
        "tsne.poof()"
      ],
      "execution_count": 11,
      "outputs": [
        {
          "output_type": "stream",
          "text": [
            "*c* argument looks like a single numeric RGB or RGBA sequence, which should be avoided as value-mapping will have precedence in case its length matches with *x* & *y*.  Please use the *color* keyword-argument or provide a 2-D array with a single row if you intend to specify the same RGB or RGBA value for all points.\n",
            "*c* argument looks like a single numeric RGB or RGBA sequence, which should be avoided as value-mapping will have precedence in case its length matches with *x* & *y*.  Please use the *color* keyword-argument or provide a 2-D array with a single row if you intend to specify the same RGB or RGBA value for all points.\n"
          ],
          "name": "stderr"
        },
        {
          "output_type": "display_data",
          "data": {
            "image/png": "[encoded data removed]",
            "text/plain": [
              "<Figure size 432x288 with 1 Axes>"
            ]
          },
          "metadata": {
            "tags": []
          }
        }
      ]
    },
    {
      "cell_type": "markdown",
      "metadata": {
        "id": "R8lSNMr4Ml4B"
      },
      "source": [
        "## Supervised learning method - Naive Bayes"
      ]
    },
    {
      "cell_type": "code",
      "metadata": {
        "colab": {
          "base_uri": "https://localhost:8080/"
        },
        "id": "xJDA4MCdjkfA",
        "outputId": "63a77b01-f6f2-4782-9fa9-2049533c37f5"
      },
      "source": [
        "# Model fitting\r\n",
        "model = MultinomialNB(alpha = 0.1)\r\n",
        "model.fit(train_data, train_labels)"
      ],
      "execution_count": 12,
      "outputs": [
        {
          "output_type": "execute_result",
          "data": {
            "text/plain": [
              "MultinomialNB(alpha=0.1, class_prior=None, fit_prior=True)"
            ]
          },
          "metadata": {
            "tags": []
          },
          "execution_count": 12
        }
      ]
    },
    {
      "cell_type": "code",
      "metadata": {
        "id": "lYHWzgIfkVbe"
      },
      "source": [
        "# Prediction\r\n",
        "prediction = model.predict(test_data)"
      ],
      "execution_count": 13,
      "outputs": []
    },
    {
      "cell_type": "markdown",
      "metadata": {
        "id": "WY4Vlu-WeMvh"
      },
      "source": [
        "We are using two scores to compare the results\r\n",
        "\r\n",
        "Accuracy score = $\\frac{TP + TN}{Total}$\r\n",
        "\r\n",
        "Fowlkes Mallwows Score = $\\frac{TP}{\\sqrt(TP+FP)(TP+FN}$ "
      ]
    },
    {
      "cell_type": "code",
      "metadata": {
        "colab": {
          "base_uri": "https://localhost:8080/"
        },
        "id": "s42qzbMLkaC3",
        "outputId": "2ac5e0d0-e079-4b8e-fa40-f1c9025cf25f"
      },
      "source": [
        "accuracy_score(test_labels, prediction) "
      ],
      "execution_count": 14,
      "outputs": [
        {
          "output_type": "execute_result",
          "data": {
            "text/plain": [
              "0.8515435310440513"
            ]
          },
          "metadata": {
            "tags": []
          },
          "execution_count": 14
        }
      ]
    },
    {
      "cell_type": "code",
      "metadata": {
        "colab": {
          "base_uri": "https://localhost:8080/"
        },
        "id": "upgEWCYHnvZj",
        "outputId": "9ddbc2c3-52ea-4f89-c276-0172c6755ca4"
      },
      "source": [
        "print(fowlkes_mallows_score(prediction, test_labels))"
      ],
      "execution_count": 15,
      "outputs": [
        {
          "output_type": "stream",
          "text": [
            "0.790984099645179\n"
          ],
          "name": "stdout"
        }
      ]
    },
    {
      "cell_type": "code",
      "metadata": {
        "colab": {
          "base_uri": "https://localhost:8080/"
        },
        "id": "s9F88LIubb8C",
        "outputId": "1227ce3a-c625-44d2-c264-1b73e4f3d43c"
      },
      "source": [
        "models = Pipeline([('CountVect', CountVectorizer()), \r\n",
        "                     ('TermFreq', TfidfTransformer()), \r\n",
        "                     ('NB', MultinomialNB())]) \r\n",
        "\r\n",
        "parameters = { 'CountVect__ngram_range': [(1, 1), (1, 2), (2, 2),(4,5)], \r\n",
        "              'TermFreq__use_idf': (True, False), \r\n",
        "              'TermFreq__norm': ('l1', 'l2'), \r\n",
        "              'NB__alpha': [1, 1e-1, 1e-2, 1e-3] } \r\n",
        "\r\n",
        "CrossValFolds = 5\r\n",
        "grid_search= GridSearchCV(models, parameters, cv = CrossValFolds, n_jobs = -1) \r\n",
        "grid_search.fit(data4, train_labels)\r\n",
        "\r\n",
        "print(grid_search.best_score_) \r\n",
        "print(grid_search.best_params_)"
      ],
      "execution_count": 16,
      "outputs": [
        {
          "output_type": "stream",
          "text": [
            "0.8637348198512604\n",
            "{'CountVect__ngram_range': (1, 1), 'NB__alpha': 0.1, 'TermFreq__norm': 'l2', 'TermFreq__use_idf': True}\n"
          ],
          "name": "stdout"
        }
      ]
    },
    {
      "cell_type": "code",
      "metadata": {
        "colab": {
          "base_uri": "https://localhost:8080/"
        },
        "id": "pdE7WD7X13ak",
        "outputId": "de27211e-33ce-445c-fb49-de058fdb9ddc"
      },
      "source": [
        "print(classification_report(test_labels, prediction))"
      ],
      "execution_count": 17,
      "outputs": [
        {
          "output_type": "stream",
          "text": [
            "              precision    recall  f1-score   support\n",
            "\n",
            "         0.0       0.84      0.96      0.90      1935\n",
            "         1.0       0.88      0.63      0.74       948\n",
            "\n",
            "    accuracy                           0.85      2883\n",
            "   macro avg       0.86      0.80      0.82      2883\n",
            "weighted avg       0.86      0.85      0.84      2883\n",
            "\n"
          ],
          "name": "stdout"
        }
      ]
    },
    {
      "cell_type": "code",
      "metadata": {
        "colab": {
          "base_uri": "https://localhost:8080/"
        },
        "id": "G_K5_pJlvZnK",
        "outputId": "3bfd56f6-c5d6-40a6-da13-98f0d51574fa"
      },
      "source": [
        "confusion_matrix(test_labels, prediction, )"
      ],
      "execution_count": 127,
      "outputs": [
        {
          "output_type": "execute_result",
          "data": {
            "text/plain": [
              "array([[1857,   78],\n",
              "       [ 350,  598]])"
            ]
          },
          "metadata": {
            "tags": []
          },
          "execution_count": 127
        }
      ]
    },
    {
      "cell_type": "code",
      "metadata": {
        "colab": {
          "base_uri": "https://localhost:8080/",
          "height": 265
        },
        "id": "bC59XTpltQGN",
        "outputId": "978eba01-d39a-4007-dc4c-5f5ee7f799ef"
      },
      "source": [
        "ax = sns.heatmap(confusion_matrix(test_labels, prediction), annot = np.array([['187', '78'],['350', '598']]), cmap=plt.cm.Blues, fmt = '')"
      ],
      "execution_count": 142,
      "outputs": [
        {
          "output_type": "display_data",
          "data": {
            "image/png": "[encoded data removed]",
            "text/plain": [
              "<Figure size 432x288 with 2 Axes>"
            ]
          },
          "metadata": {
            "tags": [],
            "needs_background": "light"
          }
        }
      ]
    },
    {
      "cell_type": "markdown",
      "metadata": {
        "id": "ehDeRIn_XZ08"
      },
      "source": [
        "# Unsupervised methods"
      ]
    },
    {
      "cell_type": "markdown",
      "metadata": {
        "id": "8hpK75kUNaUB"
      },
      "source": [
        "## K-means"
      ]
    },
    {
      "cell_type": "code",
      "metadata": {
        "id": "YdtZxPLulKuQ"
      },
      "source": [
        "kmeans = KMeans(n_clusters=2, init='k-means++', random_state=0).fit(data_)"
      ],
      "execution_count": 18,
      "outputs": []
    },
    {
      "cell_type": "code",
      "metadata": {
        "id": "AMOITJCFHlOF"
      },
      "source": [
        "kmeans_pred = []\r\n",
        "for label in kmeans.predict(data_):\r\n",
        "    if label == 0:\r\n",
        "        kmeans_pred.append(1)\r\n",
        "    else:\r\n",
        "        kmeans_pred.append(0)"
      ],
      "execution_count": 19,
      "outputs": []
    },
    {
      "cell_type": "code",
      "metadata": {
        "colab": {
          "base_uri": "https://localhost:8080/"
        },
        "id": "tISpV22u2xu9",
        "outputId": "4fe56b5d-7e6d-48c3-e2e9-9c5f8fd6dc07"
      },
      "source": [
        "fowlkes_mallows_score(kmeans_pred, df['toxic']) "
      ],
      "execution_count": 20,
      "outputs": [
        {
          "output_type": "execute_result",
          "data": {
            "text/plain": [
              "0.5767237534746894"
            ]
          },
          "metadata": {
            "tags": []
          },
          "execution_count": 20
        }
      ]
    },
    {
      "cell_type": "code",
      "metadata": {
        "id": "R-Vxesjumask"
      },
      "source": [
        "def accuracy_score_(labels__, labels___):\r\n",
        "    score = 0\r\n",
        "    for idx, label in enumerate(labels__):\r\n",
        "        if label == labels___[idx]:\r\n",
        "            score = score + 1\r\n",
        "\r\n",
        "    return score/len(labels___)"
      ],
      "execution_count": 21,
      "outputs": []
    },
    {
      "cell_type": "code",
      "metadata": {
        "colab": {
          "base_uri": "https://localhost:8080/"
        },
        "id": "xWogBl48nNOQ",
        "outputId": "01a6f261-6d4b-451b-ae70-047e5c6bc49f"
      },
      "source": [
        "accuracy_score_(kmeans_pred, df['toxic'])"
      ],
      "execution_count": 22,
      "outputs": [
        {
          "output_type": "execute_result",
          "data": {
            "text/plain": [
              "0.5530807660283097"
            ]
          },
          "metadata": {
            "tags": []
          },
          "execution_count": 22
        }
      ]
    },
    {
      "cell_type": "code",
      "metadata": {
        "colab": {
          "base_uri": "https://localhost:8080/"
        },
        "id": "IzTKmkaU1Oxy",
        "outputId": "39d5fff0-e334-406e-ecb1-fd08bd06a42f"
      },
      "source": [
        "print(classification_report(df['toxic'], kmeans_pred))"
      ],
      "execution_count": 23,
      "outputs": [
        {
          "output_type": "stream",
          "text": [
            "              precision    recall  f1-score   support\n",
            "\n",
            "         0.0       0.65      0.72      0.68      9586\n",
            "         1.0       0.29      0.23      0.25      4826\n",
            "\n",
            "    accuracy                           0.55     14412\n",
            "   macro avg       0.47      0.47      0.47     14412\n",
            "weighted avg       0.53      0.55      0.54     14412\n",
            "\n"
          ],
          "name": "stdout"
        }
      ]
    },
    {
      "cell_type": "code",
      "metadata": {
        "colab": {
          "base_uri": "https://localhost:8080/"
        },
        "id": "LjJOCf6dvM5u",
        "outputId": "2f780fc7-6d84-48e7-9ae1-ea56548b38c5"
      },
      "source": [
        "confusion_matrix(df['toxic'], kmeans_pred)"
      ],
      "execution_count": 123,
      "outputs": [
        {
          "output_type": "execute_result",
          "data": {
            "text/plain": [
              "array([[6878, 2708],\n",
              "       [3733, 1093]])"
            ]
          },
          "metadata": {
            "tags": []
          },
          "execution_count": 123
        }
      ]
    },
    {
      "cell_type": "code",
      "metadata": {
        "colab": {
          "base_uri": "https://localhost:8080/",
          "height": 265
        },
        "id": "fuYqc2FV3zpk",
        "outputId": "cab04345-4ef2-4035-f98d-6d24a6b934e3"
      },
      "source": [
        "ax = sns.heatmap(confusion_matrix(test_labels, prediction), annot = np.array([['6878', '2708'],['3733', '1093']]), cmap=plt.cm.Blues, fmt = '')"
      ],
      "execution_count": 143,
      "outputs": [
        {
          "output_type": "display_data",
          "data": {
            "image/png": "[encoded data removed]",
            "text/plain": [
              "<Figure size 432x288 with 2 Axes>"
            ]
          },
          "metadata": {
            "tags": [],
            "needs_background": "light"
          }
        }
      ]
    },
    {
      "cell_type": "markdown",
      "metadata": {
        "id": "--gRCaGeNgIH"
      },
      "source": [
        "### Elbow method"
      ]
    },
    {
      "cell_type": "code",
      "metadata": {
        "id": "E_9kPmP755JQ"
      },
      "source": [
        "Y = []\r\n",
        "for k in range(1,10):\r\n",
        "    kmean_ = KMeans(n_clusters=k).fit(data_)\r\n",
        "    Y.append(kmean_.inertia_)"
      ],
      "execution_count": 89,
      "outputs": []
    },
    {
      "cell_type": "code",
      "metadata": {
        "colab": {
          "base_uri": "https://localhost:8080/",
          "height": 403
        },
        "id": "cBjkyctb7JS7",
        "outputId": "e4e6eeff-a0c4-4416-eb45-6b7c933771d0"
      },
      "source": [
        "X = range(1,10)\r\n",
        "\r\n",
        "plt.figure(figsize=(12,6))\r\n",
        "plt.plot(X, Y)\r\n",
        "plt.plot(2, 7554, 'gD')\r\n",
        "\r\n",
        "plt.text(2.2, 7603, 'Elbow point', bbox=dict(color='green', alpha=0.8))\r\n",
        "plt.text(2.38, 7545, 'k = 2', fontsize = 12)\r\n",
        "\r\n",
        "plt.ylabel('Squared distances sum')\r\n",
        "plt.xlabel('No of clusters')\r\n",
        "plt.title('Elbow Method')\r\n",
        "\r\n",
        "plt.show()"
      ],
      "execution_count": 110,
      "outputs": [
        {
          "output_type": "display_data",
          "data": {
            "image/png": "[encoded data removed]",
            "text/plain": [
              "<Figure size 864x432 with 1 Axes>"
            ]
          },
          "metadata": {
            "tags": [],
            "needs_background": "light"
          }
        }
      ]
    },
    {
      "cell_type": "markdown",
      "metadata": {
        "id": "won2NaVPXold"
      },
      "source": [
        "## DBSCAN"
      ]
    },
    {
      "cell_type": "code",
      "metadata": {
        "id": "hsV77XB720GI"
      },
      "source": [
        "# Dimensionality reduction\r\n",
        "SVD = TruncatedSVD(100)\r\n",
        "Pca = SVD.fit_transform(data_)\r\n",
        "\r\n",
        "# Makeing the data positive\r\n",
        "scaler = MinMaxScaler().fit(Pca)\r\n",
        "data_ = scaler.transform(Pca)"
      ],
      "execution_count": 73,
      "outputs": []
    },
    {
      "cell_type": "code",
      "metadata": {
        "id": "k1E0BWA_X7iQ"
      },
      "source": [
        "clustering = DBSCAN(eps=0.9, min_samples=2).fit(data_)"
      ],
      "execution_count": 70,
      "outputs": []
    },
    {
      "cell_type": "code",
      "metadata": {
        "colab": {
          "base_uri": "https://localhost:8080/"
        },
        "id": "r-f9uTFvj7KQ",
        "outputId": "dd581621-66df-4d96-9562-c657fba7143e"
      },
      "source": [
        "fowlkes_mallows_score(clustering.labels_, data['toxic'])"
      ],
      "execution_count": 71,
      "outputs": [
        {
          "output_type": "execute_result",
          "data": {
            "text/plain": [
              "0.7393796218644814"
            ]
          },
          "metadata": {
            "tags": []
          },
          "execution_count": 71
        }
      ]
    },
    {
      "cell_type": "code",
      "metadata": {
        "colab": {
          "base_uri": "https://localhost:8080/"
        },
        "id": "FYUzImvVmK0v",
        "outputId": "9dd5873f-d49e-4ee5-f382-afe4c1c0e7a6"
      },
      "source": [
        "accuracy_score_(clustering.labels_, data['toxic'])"
      ],
      "execution_count": 72,
      "outputs": [
        {
          "output_type": "execute_result",
          "data": {
            "text/plain": [
              "0.6602830974188176"
            ]
          },
          "metadata": {
            "tags": []
          },
          "execution_count": 72
        }
      ]
    },
    {
      "cell_type": "markdown",
      "metadata": {
        "id": "FM0hpSR7ckb3"
      },
      "source": [
        "###Parameter Tunning"
      ]
    },
    {
      "cell_type": "code",
      "metadata": {
        "colab": {
          "base_uri": "https://localhost:8080/"
        },
        "id": "uaMjYYv3a8dY",
        "outputId": "c69a66af-0b9f-4e88-b1d5-a6e7b7b7eb94"
      },
      "source": [
        "# Computing a tabel for parameter comparison\r\n",
        "\r\n",
        "Acc = []\r\n",
        "Param = []\r\n",
        "X_ = []\r\n",
        "print('Clusters \\t Acc \\t eps \\t min_samples')\r\n",
        "for eps_ in [ 0.6, 0.8, 0.9]:\r\n",
        "    for min_samples_ in range(1, 10):\r\n",
        "        clustering = DBSCAN(eps=eps_, min_samples=min_samples_).fit(data_)\r\n",
        "        n_clusters = len(set(clustering.labels_)) - (1 if -1 in clustering.labels_ else 0)\r\n",
        "        print( n_clusters,' \\t       ', round(accuracy_score_(clustering.labels_, data['toxic']), 3),'\\t ', eps_, '  \\t ', min_samples_)\r\n",
        "        \r\n",
        "        X_.append(accuracy_score_(clustering.labels_, data['toxic']))\r\n",
        "        if n_clusters == 2 or n_clusters == 3:\r\n",
        "            Acc.append(accuracy_score_(clustering.labels_, data['toxic']))\r\n",
        "            Param.append([eps_, min_samples_])"
      ],
      "execution_count": 75,
      "outputs": [
        {
          "output_type": "stream",
          "text": [
            "Clusters \t Acc \t eps \t min_samples\n",
            "4746  \t        0.406 \t  0.6   \t  1\n",
            "127  \t        0.406 \t  0.6   \t  2\n",
            "6  \t        0.406 \t  0.6   \t  3\n",
            "1  \t        0.405 \t  0.6   \t  4\n",
            "1  \t        0.403 \t  0.6   \t  5\n",
            "1  \t        0.402 \t  0.6   \t  6\n",
            "1  \t        0.401 \t  0.6   \t  7\n",
            "1  \t        0.4 \t  0.6   \t  8\n",
            "1  \t        0.399 \t  0.6   \t  9\n",
            "543  \t        0.635 \t  0.8   \t  1\n",
            "14  \t        0.635 \t  0.8   \t  2\n",
            "1  \t        0.635 \t  0.8   \t  3\n",
            "1  \t        0.634 \t  0.8   \t  4\n",
            "1  \t        0.634 \t  0.8   \t  5\n",
            "1  \t        0.634 \t  0.8   \t  6\n",
            "1  \t        0.634 \t  0.8   \t  7\n",
            "1  \t        0.634 \t  0.8   \t  8\n",
            "1  \t        0.634 \t  0.8   \t  9\n",
            "91  \t        0.66 \t  0.9   \t  1\n",
            "3  \t        0.66 \t  0.9   \t  2\n",
            "1  \t        0.66 \t  0.9   \t  3\n",
            "1  \t        0.66 \t  0.9   \t  4\n",
            "1  \t        0.66 \t  0.9   \t  5\n",
            "1  \t        0.66 \t  0.9   \t  6\n",
            "1  \t        0.66 \t  0.9   \t  7\n",
            "1  \t        0.66 \t  0.9   \t  8\n",
            "1  \t        0.66 \t  0.9   \t  9\n"
          ],
          "name": "stdout"
        }
      ]
    },
    {
      "cell_type": "code",
      "metadata": {
        "colab": {
          "base_uri": "https://localhost:8080/"
        },
        "id": "GGUa7CBfbBAA",
        "outputId": "0e2f7f2d-30fa-4ab8-c358-0f19747423cc"
      },
      "source": [
        "print('Best score: ', max(Acc),'\\nBest Parameters: eps_ = ', Param[np.argmax(Acc, axis = 0)][0], ', min_sample = ', Param[np.argmax(Acc, axis = 0)][1])"
      ],
      "execution_count": 76,
      "outputs": [
        {
          "output_type": "stream",
          "text": [
            "Best score:  0.6602830974188176 \n",
            "Best Parameters: eps_ =  0.9 , min_sample =  2\n"
          ],
          "name": "stdout"
        }
      ]
    },
    {
      "cell_type": "code",
      "metadata": {
        "colab": {
          "base_uri": "https://localhost:8080/",
          "height": 403
        },
        "id": "7MmlacEJctSC",
        "outputId": "016ce3a8-cd8c-41b0-f2ab-23095f2b4ceb"
      },
      "source": [
        "Y_ = range(0,27)\r\n",
        "\r\n",
        "plt.figure(figsize=(12,6))\r\n",
        "plt.plot(Y_, X_)\r\n",
        "plt.plot(22, 0.6602830974188176, 'gD')\r\n",
        "\r\n",
        "plt.text(20.2, 0.635, 'Maximum accuracy', bbox=dict(color='green', alpha=0.8))\r\n",
        "plt.text(19.4, 0.615, 'eps_ =  0.9 , min_sample =  1', fontsize = 10)\r\n",
        "\r\n",
        "plt.xlabel('Accuracy')\r\n",
        "plt.ylabel('Parameters')\r\n",
        "plt.title('Best Parameters DBSCAN')\r\n",
        "\r\n",
        "plt.show()"
      ],
      "execution_count": 88,
      "outputs": [
        {
          "output_type": "display_data",
          "data": {
            "image/png": "[encoded data removed]",
            "text/plain": [
              "<Figure size 864x432 with 1 Axes>"
            ]
          },
          "metadata": {
            "tags": [],
            "needs_background": "light"
          }
        }
      ]
    }
  ]
}